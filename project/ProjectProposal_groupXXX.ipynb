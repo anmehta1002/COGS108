{
 "cells": [
  {
   "cell_type": "markdown",
   "metadata": {},
   "source": [
    "# COGS 108 - Final Project Proposal"
   ]
  },
  {
   "attachments": {},
   "cell_type": "markdown",
   "metadata": {},
   "source": [
    "# Names\n",
    "\n",
    "- Anushka Mehta\n",
    "- Joshua Discar\n",
    "- Miguel Heatherman\n",
    "- Heiyya Kapoor\n"
   ]
  },
  {
   "cell_type": "markdown",
   "metadata": {},
   "source": [
    "# Research Question"
   ]
  },
  {
   "attachments": {},
   "cell_type": "markdown",
   "metadata": {},
   "source": [
    "According to background research, tech industry leaders claim to be running on 100% renewable energy sources. We would like to conduct an analysis to observe whether there is a positive correlation between renewable energy consumption and the increase in income levels of tech billionaires in comparison to non tech billionaires in that country/region.\n",
    "\n",
    "\n"
   ]
  },
  {
   "cell_type": "markdown",
   "metadata": {},
   "source": [
    "# Background and Prior Work"
   ]
  },
  {
   "attachments": {},
   "cell_type": "markdown",
   "metadata": {},
   "source": [
    "   In order to alleviate the negative consequences of climate change and lessen dependence on fossil fuels, there has been an increasing global emphasis on switching to renewable energy sources in recent years. Many influential figures in the technology sector have publicly declared as part of this campaign that their businesses use only renewable energy sources. This includes Apple, Microsoft, Google, and Facebook.However, it remains important to scrutinize these assertions and explore the correlation between renewable energy consumption and the income levels of tech billionaires. This research aims to investigate whether there is a positive correlation between renewable energy consumption and the income levels of tech industry leaders.( Laricchia, F) \n",
    "\n",
    "   While no direct research has been conducted on the specific research question we have chosen, there are existing studies that focus on related aspects such as energy production from various fuel sources and the analysis of renewable energy in terms of location, per capita consumption, and quantity. Some studies have examined the relationship between energy consumption and renewable energy sources, while others have explored the influence of weather conditions on energy consumption. Although these studies provide valuable insights into different aspects of energy consumption and renewable energy, there is a gap in research specifically addressing the correlation between renewable energy consumption and the income levels of tech industry billionaires.\n",
    "   \n",
    "   The BRICS study highlights the importance of income distribution and institutional factors in driving renewable energy consumption. It reveals that reducing income inequality and strengthening institutions can increase the share of renewable energy consumption. Additionally, it emphasizes the need to promote trade and the use of renewable energy resources to reduce reliance on fossil fuels. This study is very similar in terms of the comparison of two numeric datasets corresponding to our research questions. (Mehmood, U)\n",
    "   Another new study analyzes global energy consumption during the Covid-19 pandemic, revealing a significant drop of -4% compared to the 2008 economic crisis and highlighting the widespread impact on energy consumption worldwide. This study is very visually rich and provides us with a background on what graphs to implement for our research.(Lumierebatalong)\n",
    "   \n",
    "Citations \n",
    "1. Laricchia, F. (2022, March 18). Renewable energy: Top 10 global tech companies 2020. Statista. \n",
    "https://www.statista.com/statistics/1250742/renewable-energy-top-tech-companies-worldwide #:~:text=Leading%20tech%20companies%27%20renewable%20energy%20usage%20worldwide%202020&text=Half%20of%20the%20leading%20ten,Google%2C%20Facebook%2C%20and%20ASML. \n",
    "2. Iea. (n.d.). The world’s top 1% of emitters produce over 1000 times more CO2 than the bottom 1% – analysis. IEA. https://www.iea.org/commentaries/the-world-s-top-1-of-emitters-produce-over-1000-times-more-co2-than-the-bottom-1 \n",
    "3. Mehmood, U., Agyekum, E. B., Tariq, S., Ul Haq, Z., Uhunamure, S. E., Edokpayi, J. N., & Azhar, A. (2022, April 11). Socio-economic drivers of Renewable Energy: Empirical Evidence from BRICS. International journal of environmental research and public health. https://www.ncbi.nlm.nih.gov/pmc/articles/PMC9031637/ \n",
    "4. Lumierebatalong. (2022, October 20). Global Energy Consumption & Renewable Analytics. Kaggle. https://www.kaggle.com/code/lumierebatalong/global-energy-consumption-renewable-analytics \n",
    "\n"
   ]
  },
  {
   "cell_type": "markdown",
   "metadata": {},
   "source": [
    "# Hypothesis\n"
   ]
  },
  {
   "attachments": {},
   "cell_type": "markdown",
   "metadata": {},
   "source": [
    "Research Hypothesis: We hypothesize that there is a positive correlation between renewable energy consumption and the increase in income levels of tech billionaires compared to non-tech billionaires in a specific country/region.\n",
    "\n",
    "Null Hypothesis: There is no correlation between renewable energy consumption and the income levels of tech billionaires. \n"
   ]
  },
  {
   "cell_type": "markdown",
   "metadata": {},
   "source": [
    "# Data"
   ]
  },
  {
   "attachments": {},
   "cell_type": "markdown",
   "metadata": {},
   "source": [
    "The ideal data set for answering our question would be one which contains gross income for billionaires in the world and states the industry in which they work. Another thing we are looking for is for the data set to show the yearly increase in their incomes. We will be looking at another data set which ideally contains the energy consumption separated by type of energy and usage over the years and what it is used for. This data will help us reach a reasonable conclusion. \n",
    "\n",
    "Since there are around 2000 billionaires in the world, we would like to have observations on around 60-70% of the population. This data would be ethically collected by merging data from multiple sources such as public shareholder records, publicly available investment/stock portfolio tax records, liquidity etc. For the data needed about energy consumption, it would be collected by government records of energy used around the world and would ideally have around 500 observations. We would like it to be organized in a concise and clean manner possibly segregated by the various variables we are interested in. It would be tough to collect data ourselves since we would have to collect the information from many different sources and agencies which may overcomplicate our project and have a negative impact on our data analysis. \n",
    "\n",
    "These are the datasets we would be using \n",
    "\n",
    "https://www.kaggle.com/datasets/kkhandekar/billionaires-index \n",
    "\n",
    "https://www.kaggle.com/datasets/pralabhpoudel/world-energy-consumption \n"
   ]
  },
  {
   "cell_type": "markdown",
   "metadata": {},
   "source": [
    "# Ethics & Privacy"
   ]
  },
  {
   "attachments": {},
   "cell_type": "markdown",
   "metadata": {},
   "source": [
    "Information on the net worth of billionaires is taken from documents that they publicly release (tax records, liquidity, stock purchases, etc.), and are readily available to the public for their consumption. By observing what these people release about themselves over time, their net worth is able to be tracked over a period of time. This means that the information collected on these people was done ethically and responsibly. We don’t believe that there’s any inherent bias in this list, because it recognizes the billionaires that are in different countries as well, and simply chooses the top 500 most wealthy individuals in the world.\n",
    "\n",
    "We also don’t find any biases in the world energy consumption data, which recognizes every country in the world, regardless of its status as a developed or developing country. The information was collected from several different sources that measure energy and electricity consumption.\n",
    "\n",
    "As we further explore the data, if we find any obvious bias that is more skewed towards some groups compared to others, we will find if this is will create some sort of statistical imbalance, which we will then document, so that it can be treated as data that must be either deleted, and moved to an appropriate location that will not interfere with the rest of the data set.\n",
    "\n",
    "A bias that we considered was in our recognition that we may have a cynical bias towards the industrialists in the world, and their goal as leads of industries is for the populace to consume their products more. This means that with more consumption (especially digital media), there is likely more energy usage from all entertainment devices being created and used. What’s important is that we try to leave this bias at the door as we further explore what kind of possible correlation we could find between the data sets, so that our analysis will be as free from bias as possible. However, we do hope that we can create a discussion on the ethical implications of whatever results we find related to the topic and the data. \n"
   ]
  },
  {
   "cell_type": "markdown",
   "metadata": {},
   "source": [
    "# Team Expectations "
   ]
  },
  {
   "attachments": {},
   "cell_type": "markdown",
   "metadata": {},
   "source": [
    "1. Be Respectful\n",
    "2. Always finish assignments before the due date\n",
    "3. Communication\n",
    "   - We will mainly be communicating via text, with any announcements or tasks being posted through Discord. Group meetings will be conducted over Zoom, and all group work will be posted and collaborated on through GitHub.\n",
    "   - Communicate! If something comes up, let the group know ASAP!\n",
    "4. Please respond to messages within 24 hours.\n",
    "5. Resolving Conflict\n",
    "   - Listen to everyone’s opinions.\n",
    "   - Resolve conflicts through joint decision and communication!\n"
   ]
  },
  {
   "cell_type": "markdown",
   "metadata": {},
   "source": [
    "# Project Timeline Proposal"
   ]
  },
  {
   "attachments": {},
   "cell_type": "markdown",
   "metadata": {},
   "source": [
    "Specify your team's project timeline. An example timeline has been provided. Changes the dates, times, names, and details to fit your group's plan.\n",
    "\n",
    "If you think you will need any special resources or training outside what we have covered in COGS 108 to solve your problem, then your proposal should state these clearly. For example, if you have selected a problem that involves implementing multiple neural networks, please state this so we can make sure you are on track for success and so we can point you to resources you will need to implement your project. Note that you are not required to use outside methods.\n",
    "\n",
    "\n",
    "\n",
    "| Meeting Date  | Meeting Time| Completed Before Meeting  | Discuss at Meeting |\n",
    "|---|---|---|---|\n",
    "| 1/20  |  1 PM | Read & Think about COGS 108 expectations; brainstorm topics/questions  | Determine best form of communication; Discuss and decide on final project topic; discuss hypothesis; begin background research | \n",
    "| 1/26  |  10 AM |  Do background research on topic | Discuss ideal dataset(s) and ethics; draft project proposal | \n",
    "| 2/1  | 10 AM  | Edit, finalize, and submit proposal; Search for datasets  | Discuss Wrangling and possible analytical approaches; Assign group members to lead each specific part   |\n",
    "| 2/14  | 6 PM  | Import & Wrangle Data (Ant Man); EDA (Hulk) | Review/Edit wrangling/EDA; Discuss Analysis Plan   |\n",
    "| 2/23  | 12 PM  | Finalize wrangling/EDA; Begin Analysis (Iron Man; Thor) | Discuss/edit Analysis; Complete project check-in |\n",
    "| 3/13  | 12 PM  | Complete analysis; Draft results/conclusion/discussion (Wasp)| Discuss/edit full project |\n",
    "| 3/19  | Before 11:59 PM  | NA | Turn in Final Project & Group Project Surveys |\n"
   ]
  },
  {
   "cell_type": "markdown",
   "metadata": {},
   "source": []
  }
 ],
 "metadata": {
  "kernelspec": {
   "display_name": "Python 3",
   "language": "python",
   "name": "python3"
  },
  "language_info": {
   "codemirror_mode": {
    "name": "ipython",
    "version": 3
   },
   "file_extension": ".py",
   "mimetype": "text/x-python",
   "name": "python",
   "nbconvert_exporter": "python",
   "pygments_lexer": "ipython3",
   "version": "3.10.1 (v3.10.1:2cd268a3a9, Dec  6 2021, 14:28:59) [Clang 13.0.0 (clang-1300.0.29.3)]"
  },
  "vscode": {
   "interpreter": {
    "hash": "aee8b7b246df8f9039afb4144a1f6fd8d2ca17a180786b69acc140d282b71a49"
   }
  }
 },
 "nbformat": 4,
 "nbformat_minor": 2
}
